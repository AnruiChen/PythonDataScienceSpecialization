{
 "cells": [
  {
   "cell_type": "markdown",
   "metadata": {
    "deletable": false,
    "editable": false,
    "nbgrader": {
     "checksum": "5a8d839ee00398fa3bd3bc58ec642beb",
     "grade": false,
     "grade_id": "cell-a839e7b47494b4c3",
     "locked": true,
     "schema_version": 1,
     "solution": false
    }
   },
   "source": [
    "# Assignment 2\n",
    "For this assignment you'll be looking at 2017 data on immunizations from the CDC. Your datafile for this assignment is in [assets/NISPUF17.csv](assets/NISPUF17.csv). A data users guide for this, which you'll need to map the variables in the data to the questions being asked, is available at [assets/NIS-PUF17-DUG.pdf](assets/NIS-PUF17-DUG.pdf). **Note: you may have to go to your Jupyter tree (click on the Coursera image) and navigate to the assignment 2 assets folder to see this PDF file).**"
   ]
  },
  {
   "cell_type": "markdown",
   "metadata": {
    "deletable": false,
    "editable": false,
    "hideCode": false,
    "hidePrompt": false,
    "nbgrader": {
     "checksum": "aaa5e730f40ba21c1bc94f864bad4742",
     "grade": false,
     "grade_id": "cell-58fc2e5938733f6a",
     "locked": true,
     "schema_version": 1,
     "solution": false
    }
   },
   "source": [
    "## Question 1\n",
    "Write a function called `proportion_of_education` which returns the proportion of children in the dataset who had a mother with the education levels equal to less than high school (<12), high school (12), more than high school but not a college graduate (>12) and college degree.\n",
    "\n",
    "*This function should return a dictionary in the form of (use the correct numbers, do not round numbers):* \n",
    "```\n",
    "    {\"less than high school\":0.2,\n",
    "    \"high school\":0.4,\n",
    "    \"more than high school but not college\":0.2,\n",
    "    \"college\":0.2}\n",
    "```\n"
   ]
  },
  {
   "cell_type": "code",
   "execution_count": 46,
   "metadata": {
    "deletable": false,
    "nbgrader": {
     "checksum": "0ac58deb3f5ac988c643e903cbee7f3a",
     "grade": false,
     "grade_id": "cell-eea16d020eb52ae7",
     "locked": false,
     "schema_version": 1,
     "solution": true
    }
   },
   "outputs": [],
   "source": [
    "# Goal: return proportion of children that had a mother with education\n",
    "# lvls less than grade 12, at grade 12, over grade 12 but not college\n",
    "# degree, and over grade 12 with college degree\n",
    "\n",
    "# EDUC1 – education of the mother\n",
    "# 1 is <12 years\n",
    "# 2 is 12 years\n",
    "# 3 is >12 years, not college graduate\n",
    "# 4 is College graduate\n",
    "\n",
    "def proportion_of_education():\n",
    "    \n",
    "    import pandas as pd\n",
    "    \n",
    "    # Open the file and take a look:\n",
    "    df = pd.read_csv('assets/NISPUF17.csv')\n",
    "    #print(df.head())\n",
    "    \n",
    "    # Isolate EDUC1\n",
    "    education = df['EDUC1']\n",
    "    #print(education.head())\n",
    "    #print(len(education))\n",
    "    \n",
    "    # Plan is to make masks and use where() and dropna() functions\n",
    "    # to get number of mothers of each type\n",
    "    mask1 = df['EDUC1'] == 1\n",
    "    mask2 = df['EDUC1'] == 2\n",
    "    mask3 = df['EDUC1'] == 3\n",
    "    mask4 = df['EDUC1'] == 4\n",
    "    #print(mask1)\n",
    "    \n",
    "    # Test out the mask\n",
    "    # print(education.where(mask1).dropna().head())\n",
    "    #print(len(education.where(mask1).dropna()))\n",
    "    \n",
    "    solution = {\n",
    "        # ratio = masked and dropped length / total length\n",
    "        \"less than high school\":  len(education.where(mask1).dropna()) / len(education),\n",
    "        \"high school\": len(education.where(mask2).dropna()) / len(education),\n",
    "        \"more than high school but not college\": len(education.where(mask3).dropna()) / len(education),\n",
    "        \"college\": len(education.where(mask4).dropna()) / len(education)\n",
    "    }\n",
    "    \n",
    "    return solution\n",
    "    \n",
    "#proportion_of_education()"
   ]
  },
  {
   "cell_type": "code",
   "execution_count": 47,
   "metadata": {
    "deletable": false,
    "editable": false,
    "hideCode": false,
    "hidePrompt": false,
    "nbgrader": {
     "checksum": "ac5d91a24a7f72f66c25d242c3d24a50",
     "grade": true,
     "grade_id": "cell-c0eeef201366f51c",
     "locked": true,
     "points": 1,
     "schema_version": 1,
     "solution": false
    }
   },
   "outputs": [],
   "source": [
    "assert type(proportion_of_education())==type({}), \"You must return a dictionary.\"\n",
    "assert len(proportion_of_education()) == 4, \"You have not returned a dictionary with four items in it.\"\n",
    "assert \"less than high school\" in proportion_of_education().keys(), \"You have not returned a dictionary with the correct keys.\"\n",
    "assert \"high school\" in proportion_of_education().keys(), \"You have not returned a dictionary with the correct keys.\"\n",
    "assert \"more than high school but not college\" in proportion_of_education().keys(), \"You have not returned a dictionary with the correct keys.\"\n",
    "assert \"college\" in proportion_of_education().keys(), \"You have not returned a dictionary with the correct keys.\"\n"
   ]
  },
  {
   "cell_type": "markdown",
   "metadata": {
    "deletable": false,
    "editable": false,
    "nbgrader": {
     "checksum": "562b78b7b9b79580269be0a3bebf4b42",
     "grade": false,
     "grade_id": "cell-8fcbb64516283f52",
     "locked": true,
     "schema_version": 1,
     "solution": false
    }
   },
   "source": [
    "## Question 2\n",
    "\n",
    "Let's explore the relationship between being fed breastmilk as a child and getting a seasonal influenza vaccine from a healthcare provider. Return a tuple of the average number of influenza vaccines for those children we know received breastmilk as a child and those who know did not.\n",
    "\n",
    "*This function should return a tuple in the form (use the correct numbers:*\n",
    "```\n",
    "(2.5, 0.1)\n",
    "```"
   ]
  },
  {
   "cell_type": "code",
   "execution_count": 48,
   "metadata": {
    "deletable": false,
    "nbgrader": {
     "checksum": "a405d639063c4a6408365479f29c95c9",
     "grade": false,
     "grade_id": "cell-77f18c512324eabb",
     "locked": false,
     "schema_version": 1,
     "solution": true
    },
    "scrolled": false
   },
   "outputs": [],
   "source": [
    "# Goal: return avg num of influenza vaccines for kids that got \n",
    "# breastmilk vs avg num of those that didn't, as a tuple\n",
    "\n",
    "# CBF_01 – whether the child was fed breastmilk\n",
    "# There's 1, 2, 77, and 99. wtf\n",
    "# Assume 1 is Yes\n",
    "# Assume 2 is No\n",
    "# PDF says 77 is Don't know\n",
    "# PDF says 99 is Refused response\n",
    "# Doesn't seem to have any NA vals\n",
    "\n",
    "# P_NUMFLU is the total num of seasonal flu vaccine doses\n",
    "# that each kid got\n",
    "# ranges from 0-6 and has NA vals\n",
    "\n",
    "# Strategy:\n",
    "# We just care about CBF_01 and P_NUMFLU\n",
    "# For CBF_01, 77 and 99 vals don't help us\n",
    "# For P_NUMFLU, NA vals don't help us\n",
    "\n",
    "# 0) Isolate CBF_01 and P_NUMFLU cols with the index\n",
    "# 1) Remove rows where CBF_01 = 77 or 99\n",
    "# 2) Remove rows where P_NUMFLU = NA\n",
    "# 3) Isolate kids that got breastmilk (CBF_01 = 1)\n",
    "# 4) Find avg num of flu vaccines they got\n",
    "# 5) Isolate kids that didn't get breastmilk\n",
    "# 6) Find avg num of flu vaccines they got\n",
    "# 7) Stick the avg nums into a soln tuple\n",
    "\n",
    "def average_influenza_doses():\n",
    "    \n",
    "    import pandas as pd\n",
    "    \n",
    "    # Open the file and take a look:\n",
    "    df = pd.read_csv('assets/NISPUF17.csv')\n",
    "    #print(df.head())\n",
    "    \n",
    "    #0) Isolate CBF_01 and P_NUMFLU cols with the index\n",
    "    cols = ['CBF_01', 'P_NUMFLU']\n",
    "    newDF = df[cols]\n",
    "    #print(newDF.head(20)) #P_NUMFLU's NA vals are NaN\n",
    "    \n",
    "    #1) Remove rows where CBF_01 = 77 or 99\n",
    "    newDF = newDF[(newDF['CBF_01'] == 1) |\n",
    "                  (newDF['CBF_01'] == 2)]\n",
    "    #print(newDF.head(20))\n",
    "    \n",
    "    #2) Remove rows where P_NUMFLU = NaN\n",
    "    newDF = newDF.dropna()\n",
    "    #print(newDF.head(20))\n",
    "    \n",
    "    #3) Isolate kids that got breastmilk (CBF_01 = 1)\n",
    "    BM_DF = newDF[newDF['CBF_01'] == 1]\n",
    "    #print(BM_DF.head(20))\n",
    "    \n",
    "    #4) Find avg num of flu vaccines they got\n",
    "    avg_BM_DF = BM_DF['P_NUMFLU'].mean()\n",
    "    #print(avg_BM_DF)\n",
    "    \n",
    "    #5) Isolate kids that didn't get breastmilk\n",
    "    noBM_DF = newDF[newDF['CBF_01'] == 2]\n",
    "    #print(noBM_DF.head(20))\n",
    "    \n",
    "    #6) Find avg num of flu vaccines they got\n",
    "    avg_noBM_DF = noBM_DF['P_NUMFLU'].mean()\n",
    "    #print(avg_noBM_DF)\n",
    "    \n",
    "    #7) Stick the avg nums into a soln tuple\n",
    "    solution = (avg_BM_DF, avg_noBM_DF)\n",
    "    #print(solution)\n",
    "    return solution\n",
    "    \n",
    "    #raise NotImplementedError()\n",
    "    \n",
    "#average_influenza_doses()"
   ]
  },
  {
   "cell_type": "code",
   "execution_count": 49,
   "metadata": {
    "deletable": false,
    "editable": false,
    "nbgrader": {
     "checksum": "19be955e97fdf7162d43fbb7c2c40951",
     "grade": true,
     "grade_id": "cell-54a3ba6cff31caa7",
     "locked": true,
     "points": 1,
     "schema_version": 1,
     "solution": false
    }
   },
   "outputs": [],
   "source": [
    "assert len(average_influenza_doses())==2, \"Return two values in a tuple, the first for yes and the second for no.\"\n"
   ]
  },
  {
   "cell_type": "markdown",
   "metadata": {
    "deletable": false,
    "editable": false,
    "nbgrader": {
     "checksum": "e10e2163f5957a0c398ef4f0b76b4efe",
     "grade": false,
     "grade_id": "cell-f63377f3c97aa7c4",
     "locked": true,
     "schema_version": 1,
     "solution": false
    }
   },
   "source": [
    "## Question 3\n",
    "It would be interesting to see if there is any evidence of a link between vaccine effectiveness and sex of the child. Calculate the ratio of the number of children who contracted chickenpox but were vaccinated against it (at least one varicella dose) versus those who were vaccinated but did not contract chicken pox. Return results by sex. \n",
    "\n",
    "*This function should return a dictionary in the form of (use the correct numbers):* \n",
    "```\n",
    "    {\"male\":0.2,\n",
    "    \"female\":0.4}\n",
    "```\n",
    "\n",
    "Note: To aid in verification, the `chickenpox_by_sex()['female']` value the autograder is looking for starts with the digits `0.0077`."
   ]
  },
  {
   "cell_type": "code",
   "execution_count": 50,
   "metadata": {
    "deletable": false,
    "nbgrader": {
     "checksum": "b4d1b58acae002bc73eb0b19f95bc4af",
     "grade": false,
     "grade_id": "cell-a0a9e6fe67698006",
     "locked": false,
     "schema_version": 1,
     "solution": true
    }
   },
   "outputs": [
    {
     "data": {
      "text/plain": [
       "{'male': 0.009675583380762664, 'female': 0.0077918259335489565}"
      ]
     },
     "execution_count": 50,
     "metadata": {},
     "output_type": "execute_result"
    }
   ],
   "source": [
    "# Goal: return avg num of kids that were vaccinated for at\n",
    "# least one varicella dose but still got chicken pox vs\n",
    "# those that were vaccinated and didn't get chicken pox,\n",
    "# broken down by gender, as a dictionary\n",
    "\n",
    "# P_NUMVRC is num of varicella doses a child received\n",
    "# ranges from 0-3 and has NA vals\n",
    "\n",
    "# HAD_CPOX is whether or not a child had chicken pox\n",
    "# 1 = Yes\n",
    "# 2 = No\n",
    "# 77 = Don't know\n",
    "# 99 = Refused\n",
    "# NA(?) = Missing, didn't see any missing vals\n",
    "\n",
    "# SEX is gender\n",
    "# 1 = Male\n",
    "# 2 = Female\n",
    "\n",
    "# Strategy:\n",
    "# We care about gender, vaccination status, and\n",
    "# whether or not the kids got chicken pox\n",
    "# P_NUMVRC, HAD_CPOX, and SEX.\n",
    "# For P_NUMVRC, 0 and NA vals don't help us bc\n",
    "# we're looking for kids that got vaccinated\n",
    "# For HAD_CPOX, 77 and 99 vals don't help us\n",
    "# No problem with SEX vals. no NA vals there\n",
    "\n",
    "# 0) Isolate HAD_CPOX, P_NUMVRC, and SEX cols\n",
    "#    with the index\n",
    "# 1) Remove rows where P_NUMVRC = 0 or NA\n",
    "# 2) Remove rows where HAD_CPOX = 77 or 99\n",
    "# 3) Separate the boys\n",
    "# 4) num boys that got cpox / those that didn't\n",
    "# 5) Separate the girls\n",
    "# 6) num girls that got cpox / those that didn't\n",
    "# 7) Throw the nums into a soln dictionary\n",
    "#    and return it\n",
    "\n",
    "def chickenpox_by_sex():\n",
    "    \n",
    "    import pandas as pd\n",
    "    \n",
    "    # Open the file and take a look:\n",
    "    df = pd.read_csv('assets/NISPUF17.csv')\n",
    "    #print(df.head())\n",
    "    \n",
    "    #0) Isolate HAD_CPOX, P_NUMVRC, and SEX cols\n",
    "    #   with the index\n",
    "    cols = ['HAD_CPOX', 'P_NUMVRC', 'SEX']\n",
    "    newDF = df[cols]\n",
    "    #print(newDF.head(20))\n",
    "    \n",
    "    # 1) Remove rows where P_NUMVRC = 0 or NA\n",
    "    newDF = newDF[newDF['P_NUMVRC'] != 0].dropna()\n",
    "    #print(newDF.head(20))\n",
    "        \n",
    "    # 2) Remove rows where HAD_CPOX = 77 or 99\n",
    "    newDF = newDF[(newDF['HAD_CPOX'] == 1) |\n",
    "                  (newDF['HAD_CPOX'] == 2)]\n",
    "    #print(newDF.head(60))\n",
    "    \n",
    "    # 3) Separate the boys\n",
    "    boysDF = newDF[newDF['SEX'] == 1]\n",
    "    #print(boysDF.head())\n",
    "    \n",
    "    # 4) num boys that got cpox / those that didn't\n",
    "    male = len(boysDF[boysDF['HAD_CPOX'] == 1].index) / len(boysDF[boysDF['HAD_CPOX'] == 2].index)\n",
    "    #print(male)\n",
    "    \n",
    "    \n",
    "    # 5) Separate the girls\n",
    "    girlsDF = newDF[newDF['SEX'] == 2]\n",
    "    #print(girlsDF.head())\n",
    "    \n",
    "    \n",
    "    # 6) num girls that got cpox / those that didn't\n",
    "    female = len(girlsDF[girlsDF['HAD_CPOX'] == 1].index) / len(girlsDF[girlsDF['HAD_CPOX'] == 2].index)\n",
    "    #print(female)\n",
    "    \n",
    "    \n",
    "    # 7) Throw the nums into a soln dictionary\n",
    "    #    and return it\n",
    "    solution = {'male': male,\n",
    "               'female': female}\n",
    "    #print(solution)\n",
    "    return solution    \n",
    "    \n",
    "    #raise NotImplementedError()\n",
    "\n",
    "#chickenpox_by_sex()"
   ]
  },
  {
   "cell_type": "code",
   "execution_count": 51,
   "metadata": {
    "deletable": false,
    "editable": false,
    "nbgrader": {
     "checksum": "1b6a113a633c55699ae478a3a9ee9c33",
     "grade": true,
     "grade_id": "cell-c4f1714db100c865",
     "locked": true,
     "points": 1,
     "schema_version": 1,
     "solution": false
    }
   },
   "outputs": [],
   "source": [
    "assert len(chickenpox_by_sex())==2, \"Return a dictionary with two items, the first for males and the second for females.\"\n"
   ]
  },
  {
   "cell_type": "markdown",
   "metadata": {},
   "source": [
    "## Question 4\n",
    "A correlation is a statistical relationship between two variables. If we wanted to know if vaccines work, we might look at the correlation between the use of the vaccine and whether it results in prevention of the infection or disease [1]. In this question, you are to see if there is a correlation between having had the chicken pox and the number of chickenpox vaccine doses given (varicella).\n",
    "\n",
    "Some notes on interpreting the answer. The `had_chickenpox_column` is either `1` (for yes) or `2` (for no), and the `num_chickenpox_vaccine_column` is the number of doses a child has been given of the varicella vaccine. A positive correlation (e.g., `corr > 0`) means that an increase in `had_chickenpox_column` (which means more no’s) would also increase the values of `num_chickenpox_vaccine_column` (which means more doses of vaccine). If there is a negative correlation (e.g., `corr < 0`), it indicates that having had chickenpox is related to an increase in the number of vaccine doses.\n",
    "\n",
    "Also, `pval` is the probability that we observe a correlation between `had_chickenpox_column` and `num_chickenpox_vaccine_column` which is greater than or equal to a particular value occurred by chance. A small `pval` means that the observed correlation is highly unlikely to occur by chance. In this case, `pval` should be very small (will end in `e-18` indicating a very small number).\n",
    "\n",
    "[1] This isn’t really the full picture, since we are not looking at when the dose was given. It’s possible that children had chickenpox and then their parents went to get them the vaccine. Does this dataset have the data we would need to investigate the timing of the dose?"
   ]
  },
  {
   "cell_type": "code",
   "execution_count": 67,
   "metadata": {
    "deletable": false,
    "nbgrader": {
     "checksum": "3e645859949447913cd11d30eb33cb1e",
     "grade": false,
     "grade_id": "cell-8afff07f564cf79a",
     "locked": false,
     "schema_version": 1,
     "solution": true
    }
   },
   "outputs": [],
   "source": [
    "# Goal: find if there's a correlation between\n",
    "# HAD_CPOX and P_NUMVRC\n",
    "\n",
    "# 0) Isolate HAD_CPOX and P_NUMVRC cols\n",
    "#    with the index\n",
    "# 1) Remove rows where P_NUMVRC = NA\n",
    "# 2) Remove rows where HAD_CPOX = 77 or 99\n",
    "# 3) Run the correlation on the 2 cols\n",
    "# 4) Return the correlation\n",
    "\n",
    "def corr_chickenpox():\n",
    "    import scipy.stats as stats\n",
    "    import numpy as np\n",
    "    import pandas as pd\n",
    "    \n",
    "    # this is just an example dataframe\n",
    "    #df=pd.DataFrame({\"had_chickenpox_column\":np.random.randint(1,3,size=(100)),\n",
    "    #               \"num_chickenpox_vaccine_column\":np.random.randint(0,6,size=(100))})\n",
    "\n",
    "    \n",
    "    \n",
    "    # here is some stub code to actually run the correlation\n",
    "    #corr, pval=stats.pearsonr(df[\"had_chickenpox_column\"],df[\"num_chickenpox_vaccine_column\"])\n",
    "    \n",
    "    # just return the correlation\n",
    "    #return corr\n",
    "\n",
    "    \n",
    "    \n",
    "    # Open the file and take a look:\n",
    "    df = pd.read_csv('assets/NISPUF17.csv')\n",
    "    #print(df.head())\n",
    "    \n",
    "    #0) Isolate HAD_CPOX and P_NUMVRC cols\n",
    "    #   with the index\n",
    "    cols = ['HAD_CPOX', 'P_NUMVRC']\n",
    "    newDF = df[cols]\n",
    "    #print(newDF.head(20))\n",
    "    \n",
    "    # 1) Remove rows where P_NUMVRC = NA\n",
    "    newDF = newDF.dropna()\n",
    "    #print(newDF.head(20))\n",
    "        \n",
    "    # 2) Remove rows where HAD_CPOX = 77 or 99\n",
    "    newDF = newDF[(newDF['HAD_CPOX'] == 1) |\n",
    "                  (newDF['HAD_CPOX'] == 2)]\n",
    "    #print(newDF.head(60))\n",
    "    \n",
    "    # 3) Run the correlation on the 2 cols\n",
    "    corr, pval=stats.pearsonr(newDF['HAD_CPOX'],newDF['P_NUMVRC'])\n",
    "    #print(corr)\n",
    "    \n",
    "    # 4) Return the correlation\n",
    "    return corr\n",
    "    \n",
    "    #raise NotImplementedError()\n",
    "\n",
    "#corr_chickenpox()"
   ]
  },
  {
   "cell_type": "code",
   "execution_count": 68,
   "metadata": {
    "deletable": false,
    "editable": false,
    "nbgrader": {
     "checksum": "ac50ccb747b99f6bbcc76da017e66528",
     "grade": true,
     "grade_id": "cell-73408733533a29a5",
     "locked": true,
     "points": 1,
     "schema_version": 1,
     "solution": false
    }
   },
   "outputs": [],
   "source": [
    "assert -1<=corr_chickenpox()<=1, \"You must return a float number between -1.0 and 1.0.\"\n"
   ]
  }
 ],
 "metadata": {
  "anaconda-cloud": {},
  "coursera": {
   "schema_names": [
    "mooc_adswpy_1_v2_assignment2"
   ]
  },
  "hide_code_all_hidden": false,
  "kernelspec": {
   "display_name": "Python 3",
   "language": "python",
   "name": "python3"
  },
  "language_info": {
   "codemirror_mode": {
    "name": "ipython",
    "version": 3
   },
   "file_extension": ".py",
   "mimetype": "text/x-python",
   "name": "python",
   "nbconvert_exporter": "python",
   "pygments_lexer": "ipython3",
   "version": "3.8.5"
  }
 },
 "nbformat": 4,
 "nbformat_minor": 1
}
