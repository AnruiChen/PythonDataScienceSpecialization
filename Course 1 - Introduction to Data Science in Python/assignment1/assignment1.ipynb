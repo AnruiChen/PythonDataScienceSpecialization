{
 "cells": [
  {
   "cell_type": "markdown",
   "metadata": {
    "deletable": false,
    "editable": false,
    "nbgrader": {
     "checksum": "a7460f3e3c42534125a0802936889559",
     "grade": false,
     "grade_id": "cell-fa48e7f1b94baa5b",
     "locked": true,
     "schema_version": 1,
     "solution": false
    }
   },
   "source": [
    "# Assignment 1\n",
    "For this assignment you are welcomed to use other regex resources such a regex \"cheat sheets\" you find on the web.\n",
    "\n"
   ]
  },
  {
   "cell_type": "markdown",
   "metadata": {
    "deletable": false,
    "editable": false,
    "nbgrader": {
     "checksum": "d17f561e3c6c08092810b982d085f5be",
     "grade": false,
     "grade_id": "cell-d4da7eb9acee2a6d",
     "locked": true,
     "schema_version": 1,
     "solution": false
    }
   },
   "source": [
    "Before start working on the problems, here is a small example to help you understand how to write your own answers. In short, the solution should be written within the function body given, and the final result should be returned. Then the autograder will try to call the function and validate your returned result accordingly. "
   ]
  },
  {
   "cell_type": "code",
   "execution_count": 159,
   "metadata": {
    "deletable": false,
    "editable": false,
    "nbgrader": {
     "checksum": "7eeb5e7d0f0e0137caed9f3b5cb925b1",
     "grade": false,
     "grade_id": "cell-4a96535829224b3f",
     "locked": true,
     "schema_version": 1,
     "solution": false
    }
   },
   "outputs": [],
   "source": [
    "def example_word_count():\n",
    "    # This example question requires counting words in the example_string below.\n",
    "    example_string = \"Amy is 5 years old\"\n",
    "    \n",
    "    # YOUR CODE HERE.\n",
    "    # You should write your solution here, and return your result, you can comment out or delete the\n",
    "    # NotImplementedError below.\n",
    "    result = example_string.split(\" \")\n",
    "    return len(result)\n",
    "\n",
    "    #raise NotImplementedError()"
   ]
  },
  {
   "cell_type": "markdown",
   "metadata": {},
   "source": [
    "## Part A\n",
    "\n",
    "Find a list of all of the names in the following string using regex."
   ]
  },
  {
   "cell_type": "code",
   "execution_count": 160,
   "metadata": {
    "deletable": false,
    "nbgrader": {
     "checksum": "29bc8c161c0e246c1e3ef4820cc164f7",
     "grade": false,
     "grade_id": "names",
     "locked": false,
     "schema_version": 1,
     "solution": true
    }
   },
   "outputs": [],
   "source": [
    "import re\n",
    "def names():\n",
    "    simple_string = \"\"\"Amy is 5 years old, and her sister Mary is 2 years old. \n",
    "    Ruth and Peter, their parents, have 3 kids.\"\"\"\n",
    "    \n",
    "    #Method 2: All the names start with capital letters. Find all words in the string starting with capital letters\n",
    "    #[A-Z] means look for words that start with capital letters\n",
    "    #[\\w] means that any letter can follow the capital letter\n",
    "    # * tells us that any letters can follow the capital letter\n",
    "    \n",
    "    print(re.findall(\"[A-Z][\\w]*\", simple_string))\n",
    "    print(len(re.findall(\"[A-Z][\\w]*\", simple_string)))\n",
    "    \n",
    "    return re.findall(\"[A-Z][\\w]*\", simple_string)\n",
    "    \n",
    "    #Method 1: look for Amy, Mary, Ruth, and Peter and concatenate them together (doesn't really use regex)\n",
    "    #solution = re.findall(\"Amy\", simple_string) + re.findall(\"Mary\", simple_string) + re.findall(\"Ruth\", simple_string) + re.findall(\"Peter\", simple_string)\n",
    "    #print(len(solution))\n",
    "    #return solution\n",
    "    #raise NotImplementedError()\n"
   ]
  },
  {
   "cell_type": "code",
   "execution_count": 161,
   "metadata": {
    "deletable": false,
    "editable": false,
    "nbgrader": {
     "checksum": "ed5c09ac57f7d98130d5abc557f6d6c4",
     "grade": true,
     "grade_id": "correct_names",
     "locked": false,
     "points": 1,
     "schema_version": 1,
     "solution": false
    }
   },
   "outputs": [
    {
     "name": "stdout",
     "output_type": "stream",
     "text": [
      "['Amy', 'Mary', 'Ruth', 'Peter']\n",
      "4\n"
     ]
    }
   ],
   "source": [
    "assert len(names()) == 4, \"There are four names in the simple_string\"\n"
   ]
  },
  {
   "cell_type": "markdown",
   "metadata": {
    "deletable": false,
    "editable": false,
    "nbgrader": {
     "checksum": "77b3d100c47e9e41d98f82dfeb7eba9c",
     "grade": false,
     "grade_id": "cell-ed64e3464ddd7ba7",
     "locked": true,
     "schema_version": 1,
     "solution": false
    }
   },
   "source": [
    "## Part B\n",
    "\n",
    "The dataset file in [assets/grades.txt](assets/grades.txt) contains a line separated list of people with their grade in \n",
    "a class. Create a regex to generate a list of just those students who received a B in the course."
   ]
  },
  {
   "cell_type": "code",
   "execution_count": 48,
   "metadata": {
    "deletable": false,
    "nbgrader": {
     "checksum": "e977a1df674e9fa684e6d172aec92824",
     "grade": false,
     "grade_id": "grades",
     "locked": false,
     "schema_version": 1,
     "solution": true
    }
   },
   "outputs": [],
   "source": [
    "import re\n",
    "def grades():\n",
    "    with open (\"assets/grades.txt\", \"r\") as file:\n",
    "        grades = file.read()\n",
    "        #print(grades) looks like it's Firstname Lastname: Grade, grade can be 'A', 'B', or 'C'.\n",
    "               \n",
    "        # Method:\n",
    "        #1) do a findall() to find a list of students with B grades after the colon.\n",
    "        #just keep names in the group. colon space B doesn't need to be added to the list so no () for them\n",
    "        \n",
    "        print(re.findall(\"([\\w]*[\\s][\\w]*)\\:[\\s][B]\", grades))\n",
    "        return re.findall(\"([\\w]*[\\s][\\w]*)\\:[\\s][B]\", grades)\n",
    "        \n",
    "       \n",
    "\n",
    "    #raise NotImplementedError()"
   ]
  },
  {
   "cell_type": "code",
   "execution_count": 49,
   "metadata": {
    "deletable": false,
    "editable": false,
    "nbgrader": {
     "checksum": "e0bcc452d60fc45259e58d3116d25477",
     "grade": true,
     "grade_id": "correct_grades",
     "locked": false,
     "points": 1,
     "schema_version": 1,
     "solution": false
    }
   },
   "outputs": [
    {
     "name": "stdout",
     "output_type": "stream",
     "text": [
      "['Bell Kassulke', 'Simon Loidl', 'Elias Jovanovic', 'Hakim Botros', 'Emilie Lorentsen', 'Jake Wood', 'Fatemeh Akhtar', 'Kim Weston', 'Yasmin Dar', 'Viswamitra Upandhye', 'Killian Kaufman', 'Elwood Page', 'Elodie Booker', 'Adnan Chen', 'Hank Spinka', 'Hannah Bayer']\n"
     ]
    }
   ],
   "source": [
    "assert len(grades()) == 16\n"
   ]
  },
  {
   "cell_type": "markdown",
   "metadata": {
    "deletable": false,
    "editable": false,
    "nbgrader": {
     "checksum": "36e3e2a3a3e29fa7b823d22476392320",
     "grade": false,
     "grade_id": "cell-e253518e37d33f0c",
     "locked": true,
     "schema_version": 1,
     "solution": false
    }
   },
   "source": [
    "## Part C\n",
    "\n",
    "Consider the standard web log file in [assets/logdata.txt](assets/logdata.txt). This file records the access a user makes when visiting a web page (like this one!). Each line of the log has the following items:\n",
    "* a host (e.g., '146.204.224.152') \n",
    "* a user_name (e.g., 'feest6811' **note: sometimes the user name is missing! In this case, use '-' as the value for the username.**)\n",
    "* the time a request was made (e.g., '21/Jun/2019:15:45:24 -0700')\n",
    "* the post request type (e.g., 'POST /incentivize HTTP/1.1' **note: not everything is a POST!**)\n",
    "\n",
    "Your task is to convert this into a list of dictionaries, where each dictionary looks like the following:\n",
    "```\n",
    "example_dict = {\"host\":\"146.204.224.152\", \n",
    "                \"user_name\":\"feest6811\", \n",
    "                \"time\":\"21/Jun/2019:15:45:24 -0700\",\n",
    "                \"request\":\"POST /incentivize HTTP/1.1\"}\n",
    "```"
   ]
  },
  {
   "cell_type": "code",
   "execution_count": 46,
   "metadata": {
    "deletable": false,
    "nbgrader": {
     "checksum": "c04017e59e48b2f4c77bf425ed84b356",
     "grade": false,
     "grade_id": "logs",
     "locked": false,
     "schema_version": 1,
     "solution": true
    }
   },
   "outputs": [],
   "source": [
    "import re\n",
    "def logs():\n",
    "    with open(\"assets/logdata.txt\", \"r\") as file:\n",
    "        logdata = file.read()\n",
    "    \n",
    "    #print(logdata)\n",
    "    \n",
    "    #Method:\n",
    "    #1) figure out the regex to get what we need\n",
    "    #2) going to need finditer() to return a dictionary. don't give a key to stuff we don't care about, like '-'.\n",
    "        #2a) create a pattern to fit everything, and call the titles host, user_name, time, and request\n",
    "        #2b) make the for loop to iterate through logdata.txt with finditer() to throw everything into the dictionary\n",
    "    #3) return the dictionary\n",
    "\n",
    "    #1) figure out the regex to get what we need\n",
    "        #figure out regex for IP addresses\n",
    "        #print(re.findall(\"([\\w]*[.][\\w]*[.][\\w]*[.][\\w]*)\", logdata))\n",
    "    \n",
    "        #figure out regex for usernames\n",
    "        #([\\s]\\-[\\s]) is throwaway, while we want either a username of letters/digits or a '-' symbol: ([\\w\\-]*). throwaway space after that too\n",
    "        #print(re.findall(\"([\\s]\\-[\\s])([\\w\\-]*)([\\s])\", logdata))\n",
    "        #put it together\n",
    "        #print(re.findall(\"([\\w]*[.][\\w]*[.][\\w]*[.][\\w]*)([\\s]\\-[\\s])([\\w\\-]*)([\\s])\", logdata))\n",
    "    \n",
    "        #figure our regex for times\n",
    "        #[ w / w / w : w : w : w s - w ] s   based on the example, it looks like we don't care about sq brackets either\n",
    "        #print(re.findall(\"(\\[)([\\w]*\\/[\\w]*\\/[\\w]*\\:[\\w]*\\:[\\w]*\\:[\\w]*[\\s]\\-[\\w]*)(\\])\", logdata))\n",
    "        #put it together\n",
    "        #print(re.findall(\"([\\w]*[.][\\w]*[.][\\w]*[.][\\w]*)([\\s]\\-[\\s])([\\w\\-]*)([\\s])(\\[)([\\w]*\\/[\\w]*\\/[\\w]*\\:[\\w]*\\:[\\w]*\\:[\\w]*[\\s]\\-[\\w]*)(\\])\", logdata))\n",
    "\n",
    "        #figure out regex for requests\n",
    "        # need to get rid of the double quotes. there's random stuff at the back too, to get rid of\n",
    "        #\" requestType everythingThatIsntADoubleQuote\" \" s w s w    \" s w s w is random stuff we don't need\n",
    "        #print(re.findall(\"([\\s]\\\")([\\w]*[^\\\"]*)(\\\"[\\s][\\w]*[\\s][\\w]*)\", logdata))\n",
    "        #put it together\n",
    "        #print(re.findall(\"([\\w]*[.][\\w]*[.][\\w]*[.][\\w]*)([\\s]\\-[\\s])([\\w\\-]*)([\\s])(\\[)([\\w]*\\/[\\w]*\\/[\\w]*\\:[\\w]*\\:[\\w]*\\:[\\w]*[\\s]\\-[\\w]*)(\\])([\\s]\\\")([\\w]*[^\\\"]*)(\\\"[\\s][\\w]*[\\s][\\w]*)\", logdata))\n",
    "    \n",
    "    #2) going to need finditer() to create a dictionary. don't give a key to stuff we don't care about, like '-'.\n",
    "        #2a) create a pattern to fit everything, and call the titles host, user_name, time, and request\n",
    "        pattern = \"\"\"\n",
    "        (?P<host>([\\w]*[.][\\w]*[.][\\w]*[.][\\w]*))     # IP address\n",
    "        ([\\s]\\-[\\s])       # don't care\n",
    "        (?P<user_name>([\\w\\-]*))    # username\n",
    "        ([\\s])    #don't care\n",
    "        (\\[)    #don't care about square bracket open\n",
    "        (?P<time>([\\w]*\\/[\\w]*\\/[\\w]*\\:[\\w]*\\:[\\w]*\\:[\\w]*[\\s]\\-[\\w]*))    #timestamp\n",
    "        (\\])    #don't care about square bracket close\n",
    "        ([\\s]\\\")    #don't care about space and double quote open\n",
    "        (?P<request>([\\w]*[^\\\"]*))    #request\n",
    "        (\\\"[\\s][\\w]*[\\s][\\w]*)    #don't care about double quote close and numbers after that\n",
    "        \"\"\"      \n",
    "        \n",
    "        #2b) make the for loop to iterate through logdata.txt with finditer() to throw everything into a dictionary\n",
    "        solution = []\n",
    "        for item in re.finditer(pattern, logdata, re.VERBOSE):\n",
    "            solution.append(item.groupdict())\n",
    "\n",
    "    #3) return the dictionary\n",
    "    #print(solution)\n",
    "    return solution\n",
    "\n",
    "\n"
   ]
  },
  {
   "cell_type": "code",
   "execution_count": 47,
   "metadata": {
    "deletable": false,
    "editable": false,
    "nbgrader": {
     "checksum": "1fd5f2cca190d37c667fb189352540d3",
     "grade": true,
     "grade_id": "cell-correct_logs",
     "locked": true,
     "points": 1,
     "schema_version": 1,
     "solution": false
    }
   },
   "outputs": [],
   "source": [
    "assert len(logs()) == 979\n",
    "\n",
    "one_item={'host': '146.204.224.152',\n",
    "  'user_name': 'feest6811',\n",
    "  'time': '21/Jun/2019:15:45:24 -0700',\n",
    "  'request': 'POST /incentivize HTTP/1.1'}\n",
    "assert one_item in logs(), \"Sorry, this item should be in the log results, check your formating\"\n"
   ]
  },
  {
   "cell_type": "code",
   "execution_count": null,
   "metadata": {},
   "outputs": [],
   "source": []
  },
  {
   "cell_type": "code",
   "execution_count": null,
   "metadata": {},
   "outputs": [],
   "source": []
  }
 ],
 "metadata": {
  "coursera": {
   "schema_names": [
    "mooc_adswpy_1_v2_assignment1"
   ]
  },
  "kernelspec": {
   "display_name": "Python 3",
   "language": "python",
   "name": "python3"
  },
  "language_info": {
   "codemirror_mode": {
    "name": "ipython",
    "version": 3
   },
   "file_extension": ".py",
   "mimetype": "text/x-python",
   "name": "python",
   "nbconvert_exporter": "python",
   "pygments_lexer": "ipython3",
   "version": "3.8.5"
  }
 },
 "nbformat": 4,
 "nbformat_minor": 4
}
